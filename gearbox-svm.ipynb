{
 "cells": [
  {
   "cell_type": "code",
   "execution_count": 12,
   "metadata": {
    "trusted": true
   },
   "outputs": [],
   "source": [
    "import pandas as pd\n",
    "from matplotlib import pyplot\n",
    "import numpy as np\n",
    "from sklearn.model_selection import train_test_split\n",
    "from sklearn import svm\n",
    "from sklearn.metrics import classification_report\n",
    "from sklearn.metrics import accuracy_score\n",
    "from sklearn.utils import shuffle\n",
    "from sklearn.pipeline import Pipeline\n",
    "from sklearn.model_selection import cross_val_score"
   ]
  },
  {
   "cell_type": "markdown",
   "metadata": {},
   "source": [
    "## **Healthy Data**"
   ]
  },
  {
   "cell_type": "markdown",
   "metadata": {},
   "source": [
    "Below are the sensor readings of healthy gear with loading conditions equal to 50%"
   ]
  },
  {
   "cell_type": "code",
   "execution_count": 13,
   "metadata": {
    "trusted": true
   },
   "outputs": [],
   "source": [
    "h30hz50 = pd.read_csv(\"h30hz50.csv\")"
   ]
  },
  {
   "cell_type": "markdown",
   "metadata": {},
   "source": [
    "## **Broken Data**"
   ]
  },
  {
   "cell_type": "markdown",
   "metadata": {},
   "source": [
    "Below are the sensor readings of broken gear with loading conditions equal to 50%  "
   ]
  },
  {
   "cell_type": "code",
   "execution_count": 14,
   "metadata": {
    "trusted": true
   },
   "outputs": [],
   "source": [
    "b30hz50 = pd.read_csv(\"b30hz50.csv\")"
   ]
  },
  {
   "cell_type": "markdown",
   "metadata": {},
   "source": [
    "Headview of a healthy gear reading from 50% loading"
   ]
  },
  {
   "cell_type": "code",
   "execution_count": 15,
   "metadata": {
    "trusted": true
   },
   "outputs": [
    {
     "data": {
      "text/html": [
       "<div>\n",
       "<style scoped>\n",
       "    .dataframe tbody tr th:only-of-type {\n",
       "        vertical-align: middle;\n",
       "    }\n",
       "\n",
       "    .dataframe tbody tr th {\n",
       "        vertical-align: top;\n",
       "    }\n",
       "\n",
       "    .dataframe thead th {\n",
       "        text-align: right;\n",
       "    }\n",
       "</style>\n",
       "<table border=\"1\" class=\"dataframe\">\n",
       "  <thead>\n",
       "    <tr style=\"text-align: right;\">\n",
       "      <th></th>\n",
       "      <th>a1</th>\n",
       "      <th>a2</th>\n",
       "      <th>a3</th>\n",
       "      <th>a4</th>\n",
       "    </tr>\n",
       "  </thead>\n",
       "  <tbody>\n",
       "    <tr>\n",
       "      <th>0</th>\n",
       "      <td>2.144160</td>\n",
       "      <td>-1.958210</td>\n",
       "      <td>-0.190533</td>\n",
       "      <td>-4.584750</td>\n",
       "    </tr>\n",
       "    <tr>\n",
       "      <th>1</th>\n",
       "      <td>-9.920150</td>\n",
       "      <td>-7.475190</td>\n",
       "      <td>1.794680</td>\n",
       "      <td>-7.472510</td>\n",
       "    </tr>\n",
       "    <tr>\n",
       "      <th>2</th>\n",
       "      <td>-1.330590</td>\n",
       "      <td>0.751472</td>\n",
       "      <td>-3.557400</td>\n",
       "      <td>0.328149</td>\n",
       "    </tr>\n",
       "    <tr>\n",
       "      <th>3</th>\n",
       "      <td>7.761710</td>\n",
       "      <td>-1.498460</td>\n",
       "      <td>-1.764630</td>\n",
       "      <td>10.991900</td>\n",
       "    </tr>\n",
       "    <tr>\n",
       "      <th>4</th>\n",
       "      <td>-0.714011</td>\n",
       "      <td>-0.164771</td>\n",
       "      <td>9.650560</td>\n",
       "      <td>8.970950</td>\n",
       "    </tr>\n",
       "  </tbody>\n",
       "</table>\n",
       "</div>"
      ],
      "text/plain": [
       "         a1        a2        a3         a4\n",
       "0  2.144160 -1.958210 -0.190533  -4.584750\n",
       "1 -9.920150 -7.475190  1.794680  -7.472510\n",
       "2 -1.330590  0.751472 -3.557400   0.328149\n",
       "3  7.761710 -1.498460 -1.764630  10.991900\n",
       "4 -0.714011 -0.164771  9.650560   8.970950"
      ]
     },
     "execution_count": 15,
     "metadata": {},
     "output_type": "execute_result"
    }
   ],
   "source": [
    "h30hz50.head()"
   ]
  },
  {
   "cell_type": "markdown",
   "metadata": {},
   "source": [
    "## Add Failure Column for classification\n",
    "\n",
    "### 0 --> Healhty and 1 --> Broken"
   ]
  },
  {
   "cell_type": "code",
   "execution_count": 16,
   "metadata": {
    "_kg_hide-output": true,
    "trusted": true
   },
   "outputs": [],
   "source": [
    "failure = 0\n",
    "failureArray = np.zeros((len(h30hz50.index),1))\n",
    "h30hz50['failure'] = failureArray\n"
   ]
  },
  {
   "cell_type": "markdown",
   "metadata": {},
   "source": [
    "Checking the new data table with healthy condition added"
   ]
  },
  {
   "cell_type": "code",
   "execution_count": 17,
   "metadata": {
    "trusted": true
   },
   "outputs": [
    {
     "data": {
      "text/html": [
       "<div>\n",
       "<style scoped>\n",
       "    .dataframe tbody tr th:only-of-type {\n",
       "        vertical-align: middle;\n",
       "    }\n",
       "\n",
       "    .dataframe tbody tr th {\n",
       "        vertical-align: top;\n",
       "    }\n",
       "\n",
       "    .dataframe thead th {\n",
       "        text-align: right;\n",
       "    }\n",
       "</style>\n",
       "<table border=\"1\" class=\"dataframe\">\n",
       "  <thead>\n",
       "    <tr style=\"text-align: right;\">\n",
       "      <th></th>\n",
       "      <th>a1</th>\n",
       "      <th>a2</th>\n",
       "      <th>a3</th>\n",
       "      <th>a4</th>\n",
       "      <th>failure</th>\n",
       "    </tr>\n",
       "  </thead>\n",
       "  <tbody>\n",
       "    <tr>\n",
       "      <th>0</th>\n",
       "      <td>2.144160</td>\n",
       "      <td>-1.958210</td>\n",
       "      <td>-0.190533</td>\n",
       "      <td>-4.584750</td>\n",
       "      <td>0.0</td>\n",
       "    </tr>\n",
       "    <tr>\n",
       "      <th>1</th>\n",
       "      <td>-9.920150</td>\n",
       "      <td>-7.475190</td>\n",
       "      <td>1.794680</td>\n",
       "      <td>-7.472510</td>\n",
       "      <td>0.0</td>\n",
       "    </tr>\n",
       "    <tr>\n",
       "      <th>2</th>\n",
       "      <td>-1.330590</td>\n",
       "      <td>0.751472</td>\n",
       "      <td>-3.557400</td>\n",
       "      <td>0.328149</td>\n",
       "      <td>0.0</td>\n",
       "    </tr>\n",
       "    <tr>\n",
       "      <th>3</th>\n",
       "      <td>7.761710</td>\n",
       "      <td>-1.498460</td>\n",
       "      <td>-1.764630</td>\n",
       "      <td>10.991900</td>\n",
       "      <td>0.0</td>\n",
       "    </tr>\n",
       "    <tr>\n",
       "      <th>4</th>\n",
       "      <td>-0.714011</td>\n",
       "      <td>-0.164771</td>\n",
       "      <td>9.650560</td>\n",
       "      <td>8.970950</td>\n",
       "      <td>0.0</td>\n",
       "    </tr>\n",
       "  </tbody>\n",
       "</table>\n",
       "</div>"
      ],
      "text/plain": [
       "         a1        a2        a3         a4  failure\n",
       "0  2.144160 -1.958210 -0.190533  -4.584750      0.0\n",
       "1 -9.920150 -7.475190  1.794680  -7.472510      0.0\n",
       "2 -1.330590  0.751472 -3.557400   0.328149      0.0\n",
       "3  7.761710 -1.498460 -1.764630  10.991900      0.0\n",
       "4 -0.714011 -0.164771  9.650560   8.970950      0.0"
      ]
     },
     "execution_count": 17,
     "metadata": {},
     "output_type": "execute_result"
    }
   ],
   "source": [
    "h30hz50.head()"
   ]
  },
  {
   "cell_type": "markdown",
   "metadata": {},
   "source": [
    "## Add Load and Failure Column for Broken"
   ]
  },
  {
   "cell_type": "code",
   "execution_count": 18,
   "metadata": {
    "trusted": true
   },
   "outputs": [],
   "source": [
    "failure = 1\n",
    "failureArray = np.ones((len(b30hz50.index),1))\n",
    "b30hz50['failure'] = failureArray"
   ]
  },
  {
   "cell_type": "markdown",
   "metadata": {},
   "source": [
    "Checking the new data table with broken condition added"
   ]
  },
  {
   "cell_type": "code",
   "execution_count": 19,
   "metadata": {
    "trusted": true
   },
   "outputs": [
    {
     "data": {
      "text/html": [
       "<div>\n",
       "<style scoped>\n",
       "    .dataframe tbody tr th:only-of-type {\n",
       "        vertical-align: middle;\n",
       "    }\n",
       "\n",
       "    .dataframe tbody tr th {\n",
       "        vertical-align: top;\n",
       "    }\n",
       "\n",
       "    .dataframe thead th {\n",
       "        text-align: right;\n",
       "    }\n",
       "</style>\n",
       "<table border=\"1\" class=\"dataframe\">\n",
       "  <thead>\n",
       "    <tr style=\"text-align: right;\">\n",
       "      <th></th>\n",
       "      <th>a1</th>\n",
       "      <th>a2</th>\n",
       "      <th>a3</th>\n",
       "      <th>a4</th>\n",
       "      <th>failure</th>\n",
       "    </tr>\n",
       "  </thead>\n",
       "  <tbody>\n",
       "    <tr>\n",
       "      <th>94203</th>\n",
       "      <td>-1.46153</td>\n",
       "      <td>2.78470</td>\n",
       "      <td>-1.15167</td>\n",
       "      <td>-4.537800</td>\n",
       "      <td>1.0</td>\n",
       "    </tr>\n",
       "    <tr>\n",
       "      <th>94204</th>\n",
       "      <td>-3.87952</td>\n",
       "      <td>0.85365</td>\n",
       "      <td>6.42388</td>\n",
       "      <td>-5.474920</td>\n",
       "      <td>1.0</td>\n",
       "    </tr>\n",
       "    <tr>\n",
       "      <th>94205</th>\n",
       "      <td>1.73315</td>\n",
       "      <td>4.06958</td>\n",
       "      <td>5.36450</td>\n",
       "      <td>0.216419</td>\n",
       "      <td>1.0</td>\n",
       "    </tr>\n",
       "    <tr>\n",
       "      <th>94206</th>\n",
       "      <td>8.97857</td>\n",
       "      <td>10.06520</td>\n",
       "      <td>1.55272</td>\n",
       "      <td>3.656620</td>\n",
       "      <td>1.0</td>\n",
       "    </tr>\n",
       "    <tr>\n",
       "      <th>94207</th>\n",
       "      <td>6.15826</td>\n",
       "      <td>5.58468</td>\n",
       "      <td>2.41233</td>\n",
       "      <td>2.038780</td>\n",
       "      <td>1.0</td>\n",
       "    </tr>\n",
       "  </tbody>\n",
       "</table>\n",
       "</div>"
      ],
      "text/plain": [
       "            a1        a2       a3        a4  failure\n",
       "94203 -1.46153   2.78470 -1.15167 -4.537800      1.0\n",
       "94204 -3.87952   0.85365  6.42388 -5.474920      1.0\n",
       "94205  1.73315   4.06958  5.36450  0.216419      1.0\n",
       "94206  8.97857  10.06520  1.55272  3.656620      1.0\n",
       "94207  6.15826   5.58468  2.41233  2.038780      1.0"
      ]
     },
     "execution_count": 19,
     "metadata": {},
     "output_type": "execute_result"
    }
   ],
   "source": [
    "b30hz50.tail()"
   ]
  },
  {
   "cell_type": "markdown",
   "metadata": {},
   "source": [
    "## Concat Healthy and Broken"
   ]
  },
  {
   "cell_type": "code",
   "execution_count": 20,
   "metadata": {
    "trusted": true
   },
   "outputs": [
    {
     "data": {
      "text/html": [
       "<div>\n",
       "<style scoped>\n",
       "    .dataframe tbody tr th:only-of-type {\n",
       "        vertical-align: middle;\n",
       "    }\n",
       "\n",
       "    .dataframe tbody tr th {\n",
       "        vertical-align: top;\n",
       "    }\n",
       "\n",
       "    .dataframe thead th {\n",
       "        text-align: right;\n",
       "    }\n",
       "</style>\n",
       "<table border=\"1\" class=\"dataframe\">\n",
       "  <thead>\n",
       "    <tr style=\"text-align: right;\">\n",
       "      <th></th>\n",
       "      <th>a1</th>\n",
       "      <th>a2</th>\n",
       "      <th>a3</th>\n",
       "      <th>a4</th>\n",
       "      <th>failure</th>\n",
       "    </tr>\n",
       "  </thead>\n",
       "  <tbody>\n",
       "    <tr>\n",
       "      <th>0</th>\n",
       "      <td>-3.934680</td>\n",
       "      <td>6.552160</td>\n",
       "      <td>-1.237980</td>\n",
       "      <td>20.310300</td>\n",
       "      <td>1.0</td>\n",
       "    </tr>\n",
       "    <tr>\n",
       "      <th>1</th>\n",
       "      <td>2.402850</td>\n",
       "      <td>9.994380</td>\n",
       "      <td>-3.242650</td>\n",
       "      <td>8.313200</td>\n",
       "      <td>1.0</td>\n",
       "    </tr>\n",
       "    <tr>\n",
       "      <th>2</th>\n",
       "      <td>6.242730</td>\n",
       "      <td>-3.175770</td>\n",
       "      <td>-0.686974</td>\n",
       "      <td>-4.193820</td>\n",
       "      <td>1.0</td>\n",
       "    </tr>\n",
       "    <tr>\n",
       "      <th>3</th>\n",
       "      <td>-3.994110</td>\n",
       "      <td>-14.144800</td>\n",
       "      <td>3.845360</td>\n",
       "      <td>-5.658600</td>\n",
       "      <td>1.0</td>\n",
       "    </tr>\n",
       "    <tr>\n",
       "      <th>4</th>\n",
       "      <td>1.765510</td>\n",
       "      <td>-6.464920</td>\n",
       "      <td>5.096230</td>\n",
       "      <td>-9.001360</td>\n",
       "      <td>1.0</td>\n",
       "    </tr>\n",
       "    <tr>\n",
       "      <th>...</th>\n",
       "      <td>...</td>\n",
       "      <td>...</td>\n",
       "      <td>...</td>\n",
       "      <td>...</td>\n",
       "      <td>...</td>\n",
       "    </tr>\n",
       "    <tr>\n",
       "      <th>110843</th>\n",
       "      <td>3.245040</td>\n",
       "      <td>-2.692110</td>\n",
       "      <td>2.714350</td>\n",
       "      <td>-0.639589</td>\n",
       "      <td>0.0</td>\n",
       "    </tr>\n",
       "    <tr>\n",
       "      <th>110844</th>\n",
       "      <td>1.347960</td>\n",
       "      <td>-2.303540</td>\n",
       "      <td>2.583290</td>\n",
       "      <td>-1.174450</td>\n",
       "      <td>0.0</td>\n",
       "    </tr>\n",
       "    <tr>\n",
       "      <th>110845</th>\n",
       "      <td>0.003272</td>\n",
       "      <td>-3.241480</td>\n",
       "      <td>-1.423700</td>\n",
       "      <td>-0.610475</td>\n",
       "      <td>0.0</td>\n",
       "    </tr>\n",
       "    <tr>\n",
       "      <th>110846</th>\n",
       "      <td>-0.031329</td>\n",
       "      <td>-3.361870</td>\n",
       "      <td>-1.493090</td>\n",
       "      <td>-2.147170</td>\n",
       "      <td>0.0</td>\n",
       "    </tr>\n",
       "    <tr>\n",
       "      <th>110847</th>\n",
       "      <td>1.031390</td>\n",
       "      <td>-0.380219</td>\n",
       "      <td>-2.235860</td>\n",
       "      <td>-0.474274</td>\n",
       "      <td>0.0</td>\n",
       "    </tr>\n",
       "  </tbody>\n",
       "</table>\n",
       "<p>205056 rows × 5 columns</p>\n",
       "</div>"
      ],
      "text/plain": [
       "              a1         a2        a3         a4  failure\n",
       "0      -3.934680   6.552160 -1.237980  20.310300      1.0\n",
       "1       2.402850   9.994380 -3.242650   8.313200      1.0\n",
       "2       6.242730  -3.175770 -0.686974  -4.193820      1.0\n",
       "3      -3.994110 -14.144800  3.845360  -5.658600      1.0\n",
       "4       1.765510  -6.464920  5.096230  -9.001360      1.0\n",
       "...          ...        ...       ...        ...      ...\n",
       "110843  3.245040  -2.692110  2.714350  -0.639589      0.0\n",
       "110844  1.347960  -2.303540  2.583290  -1.174450      0.0\n",
       "110845  0.003272  -3.241480 -1.423700  -0.610475      0.0\n",
       "110846 -0.031329  -3.361870 -1.493090  -2.147170      0.0\n",
       "110847  1.031390  -0.380219 -2.235860  -0.474274      0.0\n",
       "\n",
       "[205056 rows x 5 columns]"
      ]
     },
     "execution_count": 20,
     "metadata": {},
     "output_type": "execute_result"
    }
   ],
   "source": [
    "gear_data   = pd.concat([b30hz50,h30hz50], axis =0)\n",
    "gear_data"
   ]
  },
  {
   "cell_type": "markdown",
   "metadata": {},
   "source": [
    "## Modelling SVM"
   ]
  },
  {
   "cell_type": "code",
   "execution_count": 21,
   "metadata": {
    "trusted": true
   },
   "outputs": [
    {
     "data": {
      "text/plain": [
       "((205056, 4), (205056, 1))"
      ]
     },
     "execution_count": 21,
     "metadata": {},
     "output_type": "execute_result"
    }
   ],
   "source": [
    "training_features = ['a1','a2','a3','a4']\n",
    "label = ['failure']\n",
    "x = gear_data[training_features]\n",
    "y = gear_data[label]\n",
    "x.shape , y.shape"
   ]
  },
  {
   "cell_type": "code",
   "execution_count": 22,
   "metadata": {
    "trusted": true
   },
   "outputs": [],
   "source": [
    "x,y = shuffle(x,y)\n",
    "x1=x.head(60000)\n",
    "y1=y.head(60000)\n",
    "x1,y1 = shuffle(x1,y1)\n"
   ]
  },
  {
   "cell_type": "code",
   "execution_count": 23,
   "metadata": {
    "trusted": true
   },
   "outputs": [],
   "source": [
    "x1_train, x1_test, y1_train, y1_test = train_test_split(x1, y1, test_size=0.33, random_state=42)"
   ]
  },
  {
   "cell_type": "code",
   "execution_count": 24,
   "metadata": {
    "trusted": true
   },
   "outputs": [],
   "source": [
    "classifier = svm.SVC(kernel='rbf', gamma='auto', C=1.5)"
   ]
  },
  {
   "cell_type": "code",
   "execution_count": null,
   "metadata": {
    "trusted": true
   },
   "outputs": [],
   "source": [
    "classifier.fit(x1_train, y1_train.values.ravel())"
   ]
  },
  {
   "cell_type": "code",
   "execution_count": 43,
   "metadata": {
    "trusted": true
   },
   "outputs": [],
   "source": [
    "y_pred = classifier.predict(x1_test)"
   ]
  },
  {
   "cell_type": "markdown",
   "metadata": {},
   "source": [
    "Calculate the failure rate"
   ]
  },
  {
   "cell_type": "code",
   "execution_count": 44,
   "metadata": {
    "trusted": true
   },
   "outputs": [
    {
     "name": "stdout",
     "output_type": "stream",
     "text": [
      "Predicted Failure Rate: 45.55%\n"
     ]
    }
   ],
   "source": [
    "# Count total number of test samples\n",
    "total_test_samples = len(y1_test)\n",
    "\n",
    "# Count number of predicted failed gears (where prediction is 1)\n",
    "predicted_failed_gears = sum(y_pred)\n",
    "\n",
    "# Calculate the failure rate\n",
    "predicted_failure_rate = predicted_failed_gears / total_test_samples\n",
    "\n",
    "print(f\"Predicted Failure Rate: {predicted_failure_rate:.2%}\")\n"
   ]
  }
 ],
 "metadata": {
  "kernelspec": {
   "display_name": "base",
   "language": "python",
   "name": "python3"
  },
  "language_info": {
   "codemirror_mode": {
    "name": "ipython",
    "version": 3
   },
   "file_extension": ".py",
   "mimetype": "text/x-python",
   "name": "python",
   "nbconvert_exporter": "python",
   "pygments_lexer": "ipython3",
   "version": "3.12.4"
  }
 },
 "nbformat": 4,
 "nbformat_minor": 4
}
